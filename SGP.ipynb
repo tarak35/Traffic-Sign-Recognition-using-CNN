{
 "cells": [
  {
   "cell_type": "code",
   "execution_count": 1,
   "id": "929f15b5",
   "metadata": {},
   "outputs": [],
   "source": [
    "import numpy as np\n",
    "import pandas as pd\n",
    "import matplotlib.pyplot as plt\n",
    "import cv2\n",
    "import tensorflow as tf\n",
    "from PIL import Image\n",
    "import os\n",
    "from sklearn.model_selection import train_test_split\n",
    "from tensorflow.keras.utils import to_categorical\n",
    "from keras.models import Sequential, load_model,save_model,save\n",
    "from keras.layers import Conv2D, MaxPool2D, Dense, Flatten, Dropout\n",
    "from sklearn.metrics import accuracy_score"
   ]
  },
  {
   "cell_type": "code",
   "execution_count": 3,
   "id": "bfdea63b",
   "metadata": {},
   "outputs": [],
   "source": [
    "\n",
    "data = []\n",
    "labels = []\n",
    "classes = 43\n",
    "cur_path = os.getcwd()\n"
   ]
  },
  {
   "cell_type": "code",
   "execution_count": 4,
   "id": "92e323a3",
   "metadata": {},
   "outputs": [],
   "source": [
    "\n",
    "for i in range(classes):\n",
    "    path = os.path.join(cur_path, 'train', str(i))\n",
    "    images = os.listdir(path)\n",
    "\n",
    "    for a in images:\n",
    "        try:\n",
    "            image = Image.open(path + '\\\\' + a)\n",
    "            image = image.resize((30, 30))\n",
    "            image = np.array(image)\n",
    "            # sim = Image.fromarray(image)\n",
    "            data.append(image)\n",
    "            labels.append(i)\n",
    "        except:\n",
    "            print(\"Error loading image\")\n"
   ]
  },
  {
   "cell_type": "code",
   "execution_count": 5,
   "id": "6b571ba6",
   "metadata": {},
   "outputs": [
    {
     "name": "stdout",
     "output_type": "stream",
     "text": [
      "(39209, 30, 30, 3) (39209,)\n"
     ]
    }
   ],
   "source": [
    "\n",
    "data = np.array(data)\n",
    "labels = np.array(labels)\n",
    "\n",
    "print(data.shape, labels.shape)\n"
   ]
  },
  {
   "cell_type": "code",
   "execution_count": 6,
   "id": "b4c74948",
   "metadata": {},
   "outputs": [
    {
     "name": "stdout",
     "output_type": "stream",
     "text": [
      "(31367, 30, 30, 3) (7842, 30, 30, 3) (31367,) (7842,)\n"
     ]
    }
   ],
   "source": [
    "\n",
    "X_train, X_test, y_train, y_test = train_test_split(data, labels, test_size=0.2, random_state=42)\n",
    "\n",
    "print(X_train.shape, X_test.shape, y_train.shape, y_test.shape)\n"
   ]
  },
  {
   "cell_type": "code",
   "execution_count": 7,
   "id": "ae55669c",
   "metadata": {},
   "outputs": [],
   "source": [
    "\n",
    "y_train = to_categorical(y_train, 43)\n",
    "y_test = to_categorical(y_test, 43)\n"
   ]
  },
  {
   "cell_type": "code",
   "execution_count": 7,
   "id": "fd50a734",
   "metadata": {},
   "outputs": [],
   "source": [
    "\n",
    "model = Sequential()\n",
    "model.add(Conv2D(filters=32, kernel_size=(5, 5), activation='relu', input_shape=X_train.shape[1:]))\n",
    "model.add(Conv2D(filters=32, kernel_size=(5, 5), activation='relu'))\n",
    "model.add(MaxPool2D(pool_size=(2, 2)))\n",
    "model.add(Dropout(rate=0.25))\n",
    "model.add(Conv2D(filters=64, kernel_size=(3, 3), activation='relu'))\n",
    "model.add(Conv2D(filters=64, kernel_size=(3, 3), activation='relu'))\n",
    "model.add(MaxPool2D(pool_size=(2, 2)))\n",
    "model.add(Dropout(rate=0.25))\n",
    "model.add(Flatten())\n",
    "model.add(Dense(256, activation='relu'))\n",
    "model.add(Dropout(rate=0.5))\n",
    "model.add(Dense(43, activation='softmax'))\n",
    "\n",
    "model.compile(loss='categorical_crossentropy', optimizer='adam', metrics=['accuracy'])\n"
   ]
  },
  {
   "cell_type": "code",
   "execution_count": 8,
   "id": "0de8090b",
   "metadata": {
    "scrolled": true
   },
   "outputs": [
    {
     "name": "stdout",
     "output_type": "stream",
     "text": [
      "Epoch 1/15\n",
      "981/981 [==============================] - 75s 75ms/step - loss: 2.0415 - accuracy: 0.4676 - val_loss: 0.9843 - val_accuracy: 0.7302\n",
      "Epoch 2/15\n",
      "981/981 [==============================] - 75s 77ms/step - loss: 0.7660 - accuracy: 0.7771 - val_loss: 0.2447 - val_accuracy: 0.9327\n",
      "Epoch 3/15\n",
      "981/981 [==============================] - 77s 78ms/step - loss: 0.5112 - accuracy: 0.8502 - val_loss: 0.1642 - val_accuracy: 0.9533\n",
      "Epoch 4/15\n",
      "981/981 [==============================] - 77s 79ms/step - loss: 0.3966 - accuracy: 0.8827 - val_loss: 0.1430 - val_accuracy: 0.9586\n",
      "Epoch 5/15\n",
      "981/981 [==============================] - 77s 79ms/step - loss: 0.3629 - accuracy: 0.8951 - val_loss: 0.1202 - val_accuracy: 0.9651\n",
      "Epoch 6/15\n",
      "981/981 [==============================] - 79s 80ms/step - loss: 0.3308 - accuracy: 0.9040 - val_loss: 0.0889 - val_accuracy: 0.9739\n",
      "Epoch 7/15\n",
      "981/981 [==============================] - 77s 79ms/step - loss: 0.3105 - accuracy: 0.9126 - val_loss: 0.1799 - val_accuracy: 0.9484\n",
      "Epoch 8/15\n",
      "981/981 [==============================] - 77s 79ms/step - loss: 0.2769 - accuracy: 0.9204 - val_loss: 0.0819 - val_accuracy: 0.9760\n",
      "Epoch 9/15\n",
      "981/981 [==============================] - 78s 79ms/step - loss: 0.2688 - accuracy: 0.9242 - val_loss: 0.0705 - val_accuracy: 0.9809\n",
      "Epoch 10/15\n",
      "981/981 [==============================] - 78s 79ms/step - loss: 0.2680 - accuracy: 0.9246 - val_loss: 0.0831 - val_accuracy: 0.9767\n",
      "Epoch 11/15\n",
      "981/981 [==============================] - 78s 79ms/step - loss: 0.2624 - accuracy: 0.9259 - val_loss: 0.0824 - val_accuracy: 0.9758\n",
      "Epoch 12/15\n",
      "981/981 [==============================] - 79s 80ms/step - loss: 0.2562 - accuracy: 0.9307 - val_loss: 0.0719 - val_accuracy: 0.9809\n",
      "Epoch 13/15\n",
      "981/981 [==============================] - 78s 80ms/step - loss: 0.2507 - accuracy: 0.9334 - val_loss: 0.1633 - val_accuracy: 0.9514\n",
      "Epoch 14/15\n",
      "981/981 [==============================] - 77s 78ms/step - loss: 0.2374 - accuracy: 0.9364 - val_loss: 0.1384 - val_accuracy: 0.9591\n",
      "Epoch 15/15\n",
      "981/981 [==============================] - 78s 79ms/step - loss: 0.2440 - accuracy: 0.9334 - val_loss: 0.0564 - val_accuracy: 0.9842\n"
     ]
    }
   ],
   "source": [
    "\n",
    "epochs = 15\n",
    "history = model.fit(X_train, y_train, batch_size=32, epochs=epochs, validation_data=(X_test, y_test))\n"
   ]
  },
  {
   "cell_type": "code",
   "execution_count": 9,
   "id": "88032476",
   "metadata": {},
   "outputs": [],
   "source": [
    "from tensorflow.keras.models import load_model\n",
    "model.save(\"modetmpl.h5\",save_format='h5')"
   ]
  },
  {
   "cell_type": "code",
   "execution_count": 10,
   "id": "4bf723fe",
   "metadata": {},
   "outputs": [
    {
     "data": {
      "image/png": "[encoded data removed]",
      "text/plain": [
       "<Figure size 640x480 with 1 Axes>"
      ]
     },
     "metadata": {},
     "output_type": "display_data"
    }
   ],
   "source": [
    "plt.figure(0)\n",
    "plt.plot(history.history['accuracy'], label='training accuracy')\n",
    "plt.plot(history.history['val_accuracy'], label='val accuracy')\n",
    "plt.title('Accuracy')\n",
    "plt.xlabel('epochs')\n",
    "plt.ylabel('accuracy')\n",
    "plt.legend()\n",
    "plt.show()"
   ]
  },
  {
   "cell_type": "code",
   "execution_count": 11,
   "id": "ec118992",
   "metadata": {},
   "outputs": [
    {
     "data": {
      "image/png": "[encoded data removed]",
      "text/plain": [
       "<Figure size 640x480 with 1 Axes>"
      ]
     },
     "metadata": {},
     "output_type": "display_data"
    }
   ],
   "source": [
    "plt.figure(1)\n",
    "plt.plot(history.history['loss'], label='training loss')\n",
    "plt.plot(history.history['val_loss'], label='val loss')\n",
    "plt.title('Loss')\n",
    "plt.xlabel('epochs')\n",
    "plt.ylabel('loss')\n",
    "plt.legend()\n",
    "plt.show()"
   ]
  },
  {
   "cell_type": "code",
   "execution_count": 12,
   "id": "c7e164a2",
   "metadata": {},
   "outputs": [],
   "source": [
    "y_test = pd.read_csv('Test.csv')\n",
    "\n",
    "labels = y_test[\"ClassId\"].values\n",
    "imgs = y_test[\"Path\"].values\n"
   ]
  },
  {
   "cell_type": "code",
   "execution_count": 13,
   "id": "59be291c",
   "metadata": {},
   "outputs": [],
   "source": [
    "\n",
    "data = []\n",
    "\n",
    "for img in imgs:\n",
    "    image = Image.open(img)\n",
    "    image = image.resize((30, 30))\n",
    "    data.append(np.array(image))"
   ]
  },
  {
   "cell_type": "code",
   "execution_count": 21,
   "id": "205391d1",
   "metadata": {},
   "outputs": [],
   "source": [
    "X_test = np.array(data)\n",
    "\n",
    "pred = model.predict(X_test)"
   ]
  },
  {
   "cell_type": "code",
   "execution_count": 22,
   "id": "85287cfe",
   "metadata": {},
   "outputs": [
    {
     "name": "stdout",
     "output_type": "stream",
     "text": [
      "[[1.94710356e-24 7.50463991e-16 1.99395971e-19 ... 3.06839549e-15\n",
      "  1.12222575e-16 1.47657880e-24]\n",
      " [2.14114646e-22 1.00000000e+00 2.14100612e-12 ... 1.39199726e-27\n",
      "  0.00000000e+00 1.59696636e-29]\n",
      " [0.00000000e+00 0.00000000e+00 0.00000000e+00 ... 0.00000000e+00\n",
      "  0.00000000e+00 0.00000000e+00]\n",
      " ...\n",
      " [1.31554475e-06 6.40142756e-03 3.45926173e-02 ... 1.13408016e-04\n",
      "  3.02064964e-05 3.93395749e-04]\n",
      " [6.14350792e-11 3.46010020e-05 1.84469593e-06 ... 1.75028887e-07\n",
      "  1.65278761e-14 6.32775521e-09]\n",
      " [1.25067280e-24 7.20338524e-17 2.72785830e-12 ... 2.67126812e-19\n",
      "  2.27092478e-29 1.80916245e-17]]\n"
     ]
    }
   ],
   "source": [
    "print(pred)"
   ]
  },
  {
   "cell_type": "code",
   "execution_count": 24,
   "id": "f3030a13",
   "metadata": {},
   "outputs": [
    {
     "name": "stdout",
     "output_type": "stream",
     "text": [
      "[16  1 38 ...  6  7 10]\n"
     ]
    }
   ],
   "source": [
    "print(labels)"
   ]
  },
  {
   "cell_type": "code",
   "execution_count": null,
   "id": "146107ec",
   "metadata": {},
   "outputs": [],
   "source": [
    "!python gui.py"
   ]
  },
  {
   "cell_type": "code",
   "execution_count": 2,
   "id": "593593f2",
   "metadata": {},
   "outputs": [],
   "source": [
    "model=load_model(\"modetmpl.h5\")"
   ]
  },
  {
   "cell_type": "code",
   "execution_count": 8,
   "id": "f11a4c90",
   "metadata": {},
   "outputs": [],
   "source": [
    "from sklearn.metrics import accuracy_score\n"
   ]
  },
  {
   "cell_type": "code",
   "execution_count": 10,
   "id": "f83f9aa9",
   "metadata": {},
   "outputs": [
    {
     "data": {
      "text/plain": [
       "array([[[106,  59,  42],\n",
       "        [ 94,  54,  38],\n",
       "        [ 74,  50,  33],\n",
       "        ...,\n",
       "        [138,  82,  41],\n",
       "        [131,  82,  47],\n",
       "        [170, 109,  65]],\n",
       "\n",
       "       [[105,  66,  47],\n",
       "        [ 89,  58,  40],\n",
       "        [ 88,  50,  29],\n",
       "        ...,\n",
       "        [ 97,  60,  25],\n",
       "        [ 58,  48,  18],\n",
       "        [ 75,  63,  27]],\n",
       "\n",
       "       [[117,  73,  48],\n",
       "        [ 96,  63,  36],\n",
       "        [102,  57,  27],\n",
       "        ...,\n",
       "        [ 95,  63,  32],\n",
       "        [ 73,  54,  22],\n",
       "        [ 75,  55,  22]],\n",
       "\n",
       "       ...,\n",
       "\n",
       "       [[ 95,  52,  31],\n",
       "        [ 90,  56,  37],\n",
       "        [ 82,  48,  30],\n",
       "        ...,\n",
       "        [ 95,  68,  33],\n",
       "        [ 96,  64,  37],\n",
       "        [ 98,  70,  38]],\n",
       "\n",
       "       [[ 96,  59,  41],\n",
       "        [ 98,  57,  42],\n",
       "        [104,  62,  50],\n",
       "        ...,\n",
       "        [102,  74,  41],\n",
       "        [115,  81,  57],\n",
       "        [104,  71,  44]],\n",
       "\n",
       "       [[115,  77,  52],\n",
       "        [122,  74,  49],\n",
       "        [123,  80,  56],\n",
       "        ...,\n",
       "        [112,  83,  46],\n",
       "        [ 90,  66,  35],\n",
       "        [ 82,  58,  31]]], dtype=uint8)"
      ]
     },
     "execution_count": 10,
     "metadata": {},
     "output_type": "execute_result"
    }
   ],
   "source": [
    "X_test[0]"
   ]
  },
  {
   "cell_type": "code",
   "execution_count": 13,
   "id": "99c79d10",
   "metadata": {},
   "outputs": [
    {
     "data": {
      "text/plain": [
       "(None, 30, 30, 3)"
      ]
     },
     "execution_count": 13,
     "metadata": {},
     "output_type": "execute_result"
    }
   ],
   "source": [
    "model.input_shape"
   ]
  },
  {
   "cell_type": "code",
   "execution_count": 14,
   "id": "a9be8399",
   "metadata": {},
   "outputs": [
    {
     "data": {
      "text/plain": [
       "(1, 30, 30, 3)"
      ]
     },
     "execution_count": 14,
     "metadata": {},
     "output_type": "execute_result"
    }
   ],
   "source": [
    "np.expand_dims(X_test[0],axis=0).shape"
   ]
  },
  {
   "cell_type": "code",
   "execution_count": 27,
   "id": "01f93516",
   "metadata": {},
   "outputs": [
    {
     "data": {
      "text/plain": [
       "26"
      ]
     },
     "execution_count": 27,
     "metadata": {},
     "output_type": "execute_result"
    }
   ],
   "source": [
    "np.argmax(y_test[0])"
   ]
  },
  {
   "cell_type": "code",
   "execution_count": 34,
   "id": "2c33caae",
   "metadata": {},
   "outputs": [
    {
     "data": {
      "text/plain": [
       "(1, 30, 30, 3)"
      ]
     },
     "execution_count": 34,
     "metadata": {},
     "output_type": "execute_result"
    }
   ],
   "source": [
    "np.expand_dims(X_test[0], axis=0).shape"
   ]
  },
  {
   "cell_type": "code",
   "execution_count": 37,
   "id": "bd250ba0",
   "metadata": {},
   "outputs": [],
   "source": [
    "test = []"
   ]
  },
  {
   "cell_type": "code",
   "execution_count": 38,
   "id": "a21e65a7",
   "metadata": {},
   "outputs": [],
   "source": [
    "for i in range(len(X_test)):\n",
    "    test.append(np.expand_dims(X_test[i],axis=0))"
   ]
  },
  {
   "cell_type": "code",
   "execution_count": 70,
   "id": "8ccf1c5d",
   "metadata": {},
   "outputs": [],
   "source": [
    "test_labels = []\n",
    "ytest = []"
   ]
  },
  {
   "cell_type": "code",
   "execution_count": 71,
   "id": "9f8870a6",
   "metadata": {
    "scrolled": true
   },
   "outputs": [],
   "source": [
    "for i in test:\n",
    "    test_labels.append(np.argmax(model.predict(i)))"
   ]
  },
  {
   "cell_type": "code",
   "execution_count": 72,
   "id": "ae47da48",
   "metadata": {},
   "outputs": [],
   "source": [
    "for i in range(len(test_labels)):\n",
    "    ytest.append(np.argmax(y_test[i]))"
   ]
  },
  {
   "cell_type": "code",
   "execution_count": 73,
   "id": "8387e897",
   "metadata": {},
   "outputs": [],
   "source": [
    "from sklearn.metrics import accuracy_score"
   ]
  },
  {
   "cell_type": "code",
   "execution_count": 74,
   "id": "6785935d",
   "metadata": {
    "scrolled": false
   },
   "outputs": [
    {
     "data": {
      "text/plain": [
       "0.9841877072175466"
      ]
     },
     "execution_count": 74,
     "metadata": {},
     "output_type": "execute_result"
    }
   ],
   "source": [
    "accuracy_score(ytest,test_labels)"
   ]
  }
 ],
 "metadata": {
  "kernelspec": {
   "display_name": "Python 3",
   "language": "python",
   "name": "python3"
  },
  "language_info": {
   "codemirror_mode": {
    "name": "ipython",
    "version": 3
   },
   "file_extension": ".py",
   "mimetype": "text/x-python",
   "name": "python",
   "nbconvert_exporter": "python",
   "pygments_lexer": "ipython3",
   "version": "3.8.8"
  }
 },
 "nbformat": 4,
 "nbformat_minor": 5
}
